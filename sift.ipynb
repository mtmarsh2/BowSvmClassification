{
 "metadata": {
  "name": "",
  "signature": "sha256:66a9393622e15167332de72812cddfd19ad6bc198965e7f36ff0ca160bc0ed12"
 },
 "nbformat": 3,
 "nbformat_minor": 0,
 "worksheets": [
  {
   "cells": [
    {
     "cell_type": "code",
     "collapsed": false,
     "input": [
      "from __future__ import division\n",
      "import cv2\n",
      "import numpy as np\n",
      "import glob\n",
      "import os\n",
      "from sklearn.cluster import KMeans, MiniBatchKMeans\n",
      "import scipy.cluster.vq as vq\n",
      "import pdb\n",
      "import cPickle as pickle\n",
      "import numpy\n",
      "from sklearn import svm\n",
      "import random\n",
      "import os.path\n",
      "\"\"\"\n",
      "1. Read in images from folder\n",
      "2. Find sift descriptors on all\n",
      "3. Create codebook with all descriptors\n",
      "4. for each image, create histogram of features\n",
      "5. Save to file\n",
      "6. Use svm to classify target image\n",
      "\"\"\"\n",
      "\n",
      "folder_name = \"/Users/mm71593/classify/train\"\n",
      "sift = cv2.SIFT()\n",
      "num_clusters = 300\n",
      "image_to_descriptors = {}\n",
      "list_of_image_names = glob.glob(os.path.join(folder_name, \"*.jpg\"))\n",
      "all_image_histograms = {}\n",
      "kmeans = MiniBatchKMeans(n_clusters = num_clusters, batch_size = 100, max_iter = 250)\n",
      "sift_descriptors_filename = \"sift_descriptors.pickle\"\n",
      "def count_type_in_list(mylist, mytype):\n",
      "     return len([elem for elem in mylist if os.path.basename(elem).split(\".\")[0] == mytype ])\n",
      "\n",
      "def get_sift_descriptors(image_name):\n",
      "     img = cv2.imread(image_name)\n",
      "     gray = cv2.cvtColor(img, cv2.COLOR_BGR2GRAY)\n",
      "     [kp, desc] =  sift.detectAndCompute(gray, None)\n",
      "     #return only subset\n",
      "     num_elems = min(100, len(desc))\n",
      "     return random.sample(desc, num_elems)\n",
      "\n",
      "def compute_codebook(list_of_sift_descriptors):\n",
      "     return vq.kmeans2(list_of_sift_descriptors, num_clusters)\n",
      "     \n",
      "\n",
      "def create_histogram(labels):\n",
      "     hist, edges = np.histogram(labels, bins=range(num_clusters), normed=True)\n",
      "     return hist\n",
      "\n",
      "def create_labels_matrix(image_names):\n",
      "     return [ os.path.basename(image_name).split(\".\")[0] for image_name in image_names]\n",
      "\n",
      "#takes in list of image names, returns has with image_name -> matrix of sift descriptors\n",
      "def build_dataset(list_of_image_names):\n",
      "     image_to_descriptors = {}\n",
      "     for index,image_name in enumerate(list_of_image_names):\n",
      "          if index % 1000 == 0: print index\n",
      "          image_to_descriptors[image_name] = get_sift_descriptors(image_name)\n",
      "     return image_to_descriptors\n",
      "\n",
      "#dumps descriptors to file\n",
      "def dump_sift_descriptors_to_file(filename, image_to_descriptors_hash):\n",
      "     with open(filename, \"wb\") as myfile:\n",
      "          pickle.dump(image_to_descriptors_hash, myfile)\n",
      "\n",
      "#loads descriptors from file\n",
      "def load_sift_descriptors_from_file(filename):\n",
      "     with open(filename, \"rb\") as myfile:\n",
      "          return pickle.load(myfile)\n",
      "\n",
      "def classify_images(svm, list_of_image_names):\n",
      "     labels = []\n",
      "     for index, image_name in enumerate(list_of_image_names):\n",
      "          target_hist = create_histogram((kmeans.predict(get_sift_descriptors(image_name))))\n",
      "          labels.append(clf.predict(target_hist))\n",
      "     return labels\n",
      "\n",
      "def test_classification(predicted_labels, trained_labels):\n",
      "     total_correct = 0\n",
      "     for elem1, elem2 in zip(predicted_labels, trained_labels):\n",
      "          if elem1 == elem2:\n",
      "               total_correct += 1\n",
      "     return total_correct / len(predicted_labels)\n",
      "\n"
     ],
     "language": "python",
     "metadata": {},
     "outputs": [],
     "prompt_number": 1
    },
    {
     "cell_type": "code",
     "collapsed": false,
     "input": [
      "#sift descriptors part\n",
      "if os.path.isfile(sift_descriptors_filename ):\n",
      "     print \"Loading sift descriptors\"\n",
      "     image_to_descriptors = load_sift_descriptors_from_file(sift_descriptors_filename )\n",
      "else:\n",
      "     print \"Creating sift descriptors from images and dumping to file\"\n",
      "     image_to_descriptors = build_dataset(list_of_image_names)\n",
      "     dump_sift_descriptors_to_file(sift_descriptors_filename , image_to_descriptors)"
     ],
     "language": "python",
     "metadata": {},
     "outputs": [
      {
       "output_type": "stream",
       "stream": "stdout",
       "text": [
        "Creating sift descriptors from images and dumping to file\n",
        "0\n",
        "1000"
       ]
      },
      {
       "output_type": "stream",
       "stream": "stdout",
       "text": [
        "\n",
        "2000"
       ]
      },
      {
       "output_type": "stream",
       "stream": "stdout",
       "text": [
        "\n",
        "3000"
       ]
      },
      {
       "output_type": "stream",
       "stream": "stdout",
       "text": [
        "\n",
        "4000"
       ]
      },
      {
       "output_type": "stream",
       "stream": "stdout",
       "text": [
        "\n",
        "5000"
       ]
      },
      {
       "output_type": "stream",
       "stream": "stdout",
       "text": [
        "\n",
        "6000"
       ]
      },
      {
       "output_type": "stream",
       "stream": "stdout",
       "text": [
        "\n",
        "7000"
       ]
      },
      {
       "output_type": "stream",
       "stream": "stdout",
       "text": [
        "\n",
        "8000"
       ]
      },
      {
       "output_type": "stream",
       "stream": "stdout",
       "text": [
        "\n",
        "9000"
       ]
      },
      {
       "output_type": "stream",
       "stream": "stdout",
       "text": [
        "\n",
        "10000"
       ]
      },
      {
       "output_type": "stream",
       "stream": "stdout",
       "text": [
        "\n",
        "11000"
       ]
      },
      {
       "output_type": "stream",
       "stream": "stdout",
       "text": [
        "\n",
        "12000"
       ]
      },
      {
       "output_type": "stream",
       "stream": "stdout",
       "text": [
        "\n",
        "13000"
       ]
      },
      {
       "output_type": "stream",
       "stream": "stdout",
       "text": [
        "\n",
        "14000"
       ]
      },
      {
       "output_type": "stream",
       "stream": "stdout",
       "text": [
        "\n",
        "15000"
       ]
      },
      {
       "output_type": "stream",
       "stream": "stdout",
       "text": [
        "\n",
        "16000"
       ]
      },
      {
       "output_type": "stream",
       "stream": "stdout",
       "text": [
        "\n",
        "17000"
       ]
      },
      {
       "output_type": "stream",
       "stream": "stdout",
       "text": [
        "\n",
        "18000"
       ]
      },
      {
       "output_type": "stream",
       "stream": "stdout",
       "text": [
        "\n",
        "19000"
       ]
      },
      {
       "output_type": "stream",
       "stream": "stdout",
       "text": [
        "\n",
        "20000"
       ]
      },
      {
       "output_type": "stream",
       "stream": "stdout",
       "text": [
        "\n",
        "21000"
       ]
      },
      {
       "output_type": "stream",
       "stream": "stdout",
       "text": [
        "\n",
        "22000"
       ]
      },
      {
       "output_type": "stream",
       "stream": "stdout",
       "text": [
        "\n",
        "23000"
       ]
      },
      {
       "output_type": "stream",
       "stream": "stdout",
       "text": [
        "\n",
        "24000"
       ]
      },
      {
       "output_type": "stream",
       "stream": "stdout",
       "text": [
        "\n"
       ]
      }
     ],
     "prompt_number": 2
    },
    {
     "cell_type": "code",
     "collapsed": false,
     "input": [],
     "language": "python",
     "metadata": {},
     "outputs": []
    }
   ],
   "metadata": {}
  }
 ]
}