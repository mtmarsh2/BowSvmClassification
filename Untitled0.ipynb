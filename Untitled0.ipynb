{
 "metadata": {
  "name": "",
  "signature": "sha256:b88c786e4db11ac0042e4e9d9dd73cb5ffdeb8226491e00da4b1dc5893341b1d"
 },
 "nbformat": 3,
 "nbformat_minor": 0,
 "worksheets": [
  {
   "cells": [
    {
     "cell_type": "code",
     "collapsed": false,
     "input": [
      "from sklearn.cross_validation import train_test_split\n",
      "from __future__ import division\n",
      "import cv2\n",
      "import numpy as np\n",
      "import glob\n",
      "import os\n",
      "from sklearn.cluster import KMeans, MiniBatchKMeans\n",
      "import scipy.cluster.vq as vq\n",
      "import pdb\n",
      "import cPickle as pickle\n",
      "import numpy\n",
      "from sklearn import svm\n",
      "import random\n",
      "import os.path\n",
      "from scipy import spatial\n",
      "from test_remove import remove_bad_matches\n",
      "\n",
      "def get_sift_descriptors(image_name):\n",
      "     img = cv2.imread(image_name)\n",
      "     gray = cv2.cvtColor(img, cv2.COLOR_BGR2GRAY)\n",
      "     [kp, desc] =  sift.detectAndCompute(gray, None)\n",
      "     return kp, desc\n",
      "\n",
      "def build_dataset(list_of_image_names):\n",
      "     image_to_descriptors = {}\n",
      "     for index,image_name in enumerate(list_of_image_names):\n",
      "          image_to_descriptors[image_name] = get_sift_descriptors(image_name)[1]\n",
      "     return image_to_descriptors\n",
      "\n",
      "def create_labels_matrix(image_names):\n",
      "    labels_matrix = []\n",
      "    for i in image_names:\n",
      "        if i.split(\"/\")[7] == \"no-logo\":\n",
      "            labels_matrix.append(\"no-logo\")\n",
      "        else:\n",
      "            labels_matrix.append(\"starbucks\")\n",
      "    return labels_matrix\n",
      "\n",
      "\n",
      "label_dict = {0: 'starbucks', 1: 'no-logo'}\n",
      "surf = cv2.SURF(400)\n",
      "folder_name = \"/Users/User1/Downloads/FlickrLogos-v2/classes/jpg/starbucks/\"\n",
      "other_folder_name = \"/Users/User1/Downloads/FlickrLogos-v2/classes/jpg/no-logo/\"\n",
      "image_names = glob.glob(os.path.join(folder_name, \"*.jpg\"))[:1] + glob.glob(os.path.join(other_folder_name, \"*.jpg\"))[:1]\n",
      "num_clusters = 1000\n",
      "\n",
      "# ===== Read in logo + mask images and compute sift descriptors\n",
      "image_to_descriptors = build_dataset(image_names)\n",
      "all_descriptors = np.vstack(image_to_descriptors.values())\n",
      "\n",
      "# ===== Build vocab list using kmeans\n",
      "kmeans = MiniBatchKMeans(n_clusters = num_clusters)\n",
      "kmeans.fit(all_descriptors)\n",
      "\n",
      "# ===== Compute histogram for all logo images\n",
      "for index,image_name in enumerate(list_of_image_names):\n",
      "     if index % 1000 ==0: print index\n",
      "     labels = kmeans.predict(image_to_descriptors[image_name])\n",
      "     all_image_histograms[image_name] = create_histogram(labels)\n",
      "\n",
      "# ===== Partition data\n",
      "enc = LabelEncoder()\n",
      "label_encoder = enc.fit(create_labels_matrix(all_image_histograms.keys()))\n",
      "y = label_encoder.transform(create_labels_matrix(all_image_histograms.keys()))\n",
      "x_train, x_test, y_train, y_test = train_test_split(all_image_histograms.values(), y,  test_size=.3, random_state=42)"
     ],
     "language": "python",
     "metadata": {},
     "outputs": [
      {
       "output_type": "stream",
       "stream": "stdout",
       "text": [
        "[[1 2 3]\n",
        " [3 4 5]\n",
        " [1 2 3]]\n",
        "[[1 1 1]\n",
        " [2 2 2]\n",
        " [3 3 3]]\n"
       ]
      },
      {
       "ename": "NameError",
       "evalue": "global name 'sift' is not defined",
       "output_type": "pyerr",
       "traceback": [
        "\u001b[0;31m---------------------------------------------------------------------------\u001b[0m\n\u001b[0;31mNameError\u001b[0m                                 Traceback (most recent call last)",
        "\u001b[0;32m<ipython-input-1-faf38119aca1>\u001b[0m in \u001b[0;36m<module>\u001b[0;34m()\u001b[0m\n\u001b[1;32m     46\u001b[0m \u001b[0;34m\u001b[0m\u001b[0m\n\u001b[1;32m     47\u001b[0m \u001b[0;31m# ===== Read in logo + mask images and compute sift descriptors\u001b[0m\u001b[0;34m\u001b[0m\u001b[0;34m\u001b[0m\u001b[0m\n\u001b[0;32m---> 48\u001b[0;31m \u001b[0mimage_to_descriptors\u001b[0m \u001b[0;34m=\u001b[0m \u001b[0mbuild_dataset\u001b[0m\u001b[0;34m(\u001b[0m\u001b[0mimage_names\u001b[0m\u001b[0;34m)\u001b[0m\u001b[0;34m\u001b[0m\u001b[0m\n\u001b[0m\u001b[1;32m     49\u001b[0m \u001b[0mall_descriptors\u001b[0m \u001b[0;34m=\u001b[0m \u001b[0mnp\u001b[0m\u001b[0;34m.\u001b[0m\u001b[0mvstack\u001b[0m\u001b[0;34m(\u001b[0m\u001b[0mimage_to_descriptors\u001b[0m\u001b[0;34m.\u001b[0m\u001b[0mvalues\u001b[0m\u001b[0;34m(\u001b[0m\u001b[0;34m)\u001b[0m\u001b[0;34m)\u001b[0m\u001b[0;34m\u001b[0m\u001b[0m\n\u001b[1;32m     50\u001b[0m \u001b[0;34m\u001b[0m\u001b[0m\n",
        "\u001b[0;32m<ipython-input-1-faf38119aca1>\u001b[0m in \u001b[0;36mbuild_dataset\u001b[0;34m(list_of_image_names)\u001b[0m\n\u001b[1;32m     25\u001b[0m      \u001b[0mimage_to_descriptors\u001b[0m \u001b[0;34m=\u001b[0m \u001b[0;34m{\u001b[0m\u001b[0;34m}\u001b[0m\u001b[0;34m\u001b[0m\u001b[0m\n\u001b[1;32m     26\u001b[0m      \u001b[0;32mfor\u001b[0m \u001b[0mindex\u001b[0m\u001b[0;34m,\u001b[0m\u001b[0mimage_name\u001b[0m \u001b[0;32min\u001b[0m \u001b[0menumerate\u001b[0m\u001b[0;34m(\u001b[0m\u001b[0mlist_of_image_names\u001b[0m\u001b[0;34m)\u001b[0m\u001b[0;34m:\u001b[0m\u001b[0;34m\u001b[0m\u001b[0m\n\u001b[0;32m---> 27\u001b[0;31m           \u001b[0mimage_to_descriptors\u001b[0m\u001b[0;34m[\u001b[0m\u001b[0mimage_name\u001b[0m\u001b[0;34m]\u001b[0m \u001b[0;34m=\u001b[0m \u001b[0mget_sift_descriptors\u001b[0m\u001b[0;34m(\u001b[0m\u001b[0mimage_name\u001b[0m\u001b[0;34m)\u001b[0m\u001b[0;34m[\u001b[0m\u001b[0;36m1\u001b[0m\u001b[0;34m]\u001b[0m\u001b[0;34m\u001b[0m\u001b[0m\n\u001b[0m\u001b[1;32m     28\u001b[0m      \u001b[0;32mreturn\u001b[0m \u001b[0mimage_to_descriptors\u001b[0m\u001b[0;34m\u001b[0m\u001b[0m\n\u001b[1;32m     29\u001b[0m \u001b[0;34m\u001b[0m\u001b[0m\n",
        "\u001b[0;32m<ipython-input-1-faf38119aca1>\u001b[0m in \u001b[0;36mget_sift_descriptors\u001b[0;34m(image_name)\u001b[0m\n\u001b[1;32m     19\u001b[0m      \u001b[0mimg\u001b[0m \u001b[0;34m=\u001b[0m \u001b[0mcv2\u001b[0m\u001b[0;34m.\u001b[0m\u001b[0mimread\u001b[0m\u001b[0;34m(\u001b[0m\u001b[0mimage_name\u001b[0m\u001b[0;34m)\u001b[0m\u001b[0;34m\u001b[0m\u001b[0m\n\u001b[1;32m     20\u001b[0m      \u001b[0mgray\u001b[0m \u001b[0;34m=\u001b[0m \u001b[0mcv2\u001b[0m\u001b[0;34m.\u001b[0m\u001b[0mcvtColor\u001b[0m\u001b[0;34m(\u001b[0m\u001b[0mimg\u001b[0m\u001b[0;34m,\u001b[0m \u001b[0mcv2\u001b[0m\u001b[0;34m.\u001b[0m\u001b[0mCOLOR_BGR2GRAY\u001b[0m\u001b[0;34m)\u001b[0m\u001b[0;34m\u001b[0m\u001b[0m\n\u001b[0;32m---> 21\u001b[0;31m      \u001b[0;34m[\u001b[0m\u001b[0mkp\u001b[0m\u001b[0;34m,\u001b[0m \u001b[0mdesc\u001b[0m\u001b[0;34m]\u001b[0m \u001b[0;34m=\u001b[0m  \u001b[0msift\u001b[0m\u001b[0;34m.\u001b[0m\u001b[0mdetectAndCompute\u001b[0m\u001b[0;34m(\u001b[0m\u001b[0mgray\u001b[0m\u001b[0;34m,\u001b[0m \u001b[0mNone\u001b[0m\u001b[0;34m)\u001b[0m\u001b[0;34m\u001b[0m\u001b[0m\n\u001b[0m\u001b[1;32m     22\u001b[0m      \u001b[0;32mreturn\u001b[0m \u001b[0mkp\u001b[0m\u001b[0;34m,\u001b[0m \u001b[0mdesc\u001b[0m\u001b[0;34m\u001b[0m\u001b[0m\n\u001b[1;32m     23\u001b[0m \u001b[0;34m\u001b[0m\u001b[0m\n",
        "\u001b[0;31mNameError\u001b[0m: global name 'sift' is not defined"
       ]
      }
     ],
     "prompt_number": 1
    },
    {
     "cell_type": "code",
     "collapsed": false,
     "input": [],
     "language": "python",
     "metadata": {},
     "outputs": []
    }
   ],
   "metadata": {}
  }
 ]
}