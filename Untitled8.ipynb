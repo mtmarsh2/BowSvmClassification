{
 "metadata": {
  "name": "",
  "signature": "sha256:3d905ce8ba3a72a35019c6cddadcf619c2f1943921198a94dab425b48bcb7632"
 },
 "nbformat": 3,
 "nbformat_minor": 0,
 "worksheets": [
  {
   "cells": [
    {
     "cell_type": "code",
     "collapsed": false,
     "input": [
      "from sklearn.cross_validation import train_test_split\n",
      "from __future__ import division\n",
      "import cv2\n",
      "import numpy as np\n",
      "import glob\n",
      "import os\n",
      "from sklearn.cluster import KMeans, MiniBatchKMeans\n",
      "import scipy.cluster.vq as vq\n",
      "import pdb\n",
      "import cPickle as pickle\n",
      "import numpy\n",
      "from sklearn import svm\n",
      "import random\n",
      "import os.path\n",
      "from scipy import spatial\n",
      "from test_remove import remove_bad_matches\n",
      "from sklearn.preprocessing import LabelEncoder\n",
      "def get_surf_descriptors(image_name):\n",
      "     surf = cv2.SURF(400)\n",
      "     img = cv2.imread(image_name)\n",
      "     gray = cv2.cvtColor(img, cv2.COLOR_BGR2GRAY)\n",
      "     [kp, desc] =  surf.detectAndCompute(gray, None)\n",
      "     return kp, desc\n",
      "\n",
      "def build_dataset(list_of_image_names):\n",
      "     image_to_descriptors = {}\n",
      "     for index,image_name in enumerate(list_of_image_names):\n",
      "          image_to_descriptors[image_name] = get_surf_descriptors(image_name)[1]\n",
      "     return image_to_descriptors\n",
      "\n",
      "def create_labels_matrix(image_names):\n",
      "    labels_matrix = []\n",
      "    for i in image_names:\n",
      "        if i.split(\"/\")[7] == \"no-logo\":\n",
      "            labels_matrix.append(\"no-logo\")\n",
      "        else:\n",
      "            labels_matrix.append(\"starbucks\")\n",
      "    return labels_matrix\n",
      "\n",
      "def create_histogram(labels):\n",
      "     hist, edges = np.histogram(labels, bins=range(num_clusters + 1), normed=True)\n",
      "     return hist\n",
      "\n",
      "\"\"\"\n",
      "\"\"\"\n",
      "\n",
      "\n",
      "label_dict = {0: 'starbucks', 1: 'no-logo'}\n",
      "folder_name = \"/Users/User1/Downloads/FlickrLogos-v2/classes/jpg/starbucks/\"\n",
      "other_folder_name = \"/Users/User1/Downloads/FlickrLogos-v2/classes/jpg/no-logo/\"\n",
      "total_image_names = glob.glob(os.path.join(folder_name, \"*.jpg\")) + glob.glob(os.path.join(other_folder_name, \"*.jpg\"))\n",
      "image_names = glob.glob(os.path.join(folder_name, \"*.jpg\")) + glob.glob(os.path.join(other_folder_name, \"*.jpg\"))[:100]\n",
      "num_clusters = 1000\n",
      "all_image_histograms = {}\n",
      "# ===== Read in logo + mask images and compute sift descriptors\n",
      "image_to_descriptors = build_dataset(image_names)\n",
      "all_descriptors = np.vstack(image_to_descriptors.values())\n",
      "\n",
      "# ===== Build vocab list using kmeans\n",
      "kmeans = MiniBatchKMeans(n_clusters = num_clusters)\n",
      "kmeans.fit(all_descriptors)\n",
      "\n",
      "# ===== Compute histogram for all logo images\n",
      "for index,image_name in enumerate(image_names):\n",
      "     if index % 1000 == 0: print index\n",
      "     labels = kmeans.predict(get_surf_descriptors(image_name)[1])\n",
      "     all_image_histograms[image_name] = create_histogram(labels)\n",
      "\n",
      "# ===== Partition data\n",
      "enc = LabelEncoder()\n",
      "label_encoder = enc.fit(create_labels_matrix(all_image_histograms.keys()))\n",
      "y = label_encoder.transform(create_labels_matrix(all_image_histograms.keys()))\n",
      "x_train, x_test, y_train, y_test = train_test_split(all_image_histograms.values(), y,  test_size=.3, random_state=42)\n",
      "\"\"\"\n",
      "from sklearn.svm import LinearSVC\n",
      "clf = LinearSVC(loss = 'l2')\n",
      "clf = clf.fit(x_train, y_train)\n",
      "\"\"\"\n"
     ],
     "language": "python",
     "metadata": {},
     "outputs": [
      {
       "ename": "KeyboardInterrupt",
       "evalue": "",
       "output_type": "pyerr",
       "traceback": [
        "\u001b[0;31m---------------------------------------------------------------------------\u001b[0m\n\u001b[0;31mKeyboardInterrupt\u001b[0m                         Traceback (most recent call last)",
        "\u001b[0;32m<ipython-input-140-b67c19fa9c0c>\u001b[0m in \u001b[0;36m<module>\u001b[0;34m()\u001b[0m\n\u001b[1;32m     54\u001b[0m \u001b[0mall_image_histograms\u001b[0m \u001b[0;34m=\u001b[0m \u001b[0;34m{\u001b[0m\u001b[0;34m}\u001b[0m\u001b[0;34m\u001b[0m\u001b[0m\n\u001b[1;32m     55\u001b[0m \u001b[0;31m# ===== Read in logo + mask images and compute sift descriptors\u001b[0m\u001b[0;34m\u001b[0m\u001b[0;34m\u001b[0m\u001b[0m\n\u001b[0;32m---> 56\u001b[0;31m \u001b[0mimage_to_descriptors\u001b[0m \u001b[0;34m=\u001b[0m \u001b[0mbuild_dataset\u001b[0m\u001b[0;34m(\u001b[0m\u001b[0mimage_names\u001b[0m\u001b[0;34m)\u001b[0m\u001b[0;34m\u001b[0m\u001b[0m\n\u001b[0m\u001b[1;32m     57\u001b[0m \u001b[0mall_descriptors\u001b[0m \u001b[0;34m=\u001b[0m \u001b[0mnp\u001b[0m\u001b[0;34m.\u001b[0m\u001b[0mvstack\u001b[0m\u001b[0;34m(\u001b[0m\u001b[0mimage_to_descriptors\u001b[0m\u001b[0;34m.\u001b[0m\u001b[0mvalues\u001b[0m\u001b[0;34m(\u001b[0m\u001b[0;34m)\u001b[0m\u001b[0;34m)\u001b[0m\u001b[0;34m\u001b[0m\u001b[0m\n\u001b[1;32m     58\u001b[0m \u001b[0;34m\u001b[0m\u001b[0m\n",
        "\u001b[0;32m<ipython-input-140-b67c19fa9c0c>\u001b[0m in \u001b[0;36mbuild_dataset\u001b[0;34m(list_of_image_names)\u001b[0m\n\u001b[1;32m     26\u001b[0m      \u001b[0mimage_to_descriptors\u001b[0m \u001b[0;34m=\u001b[0m \u001b[0;34m{\u001b[0m\u001b[0;34m}\u001b[0m\u001b[0;34m\u001b[0m\u001b[0m\n\u001b[1;32m     27\u001b[0m      \u001b[0;32mfor\u001b[0m \u001b[0mindex\u001b[0m\u001b[0;34m,\u001b[0m\u001b[0mimage_name\u001b[0m \u001b[0;32min\u001b[0m \u001b[0menumerate\u001b[0m\u001b[0;34m(\u001b[0m\u001b[0mlist_of_image_names\u001b[0m\u001b[0;34m)\u001b[0m\u001b[0;34m:\u001b[0m\u001b[0;34m\u001b[0m\u001b[0m\n\u001b[0;32m---> 28\u001b[0;31m           \u001b[0mimage_to_descriptors\u001b[0m\u001b[0;34m[\u001b[0m\u001b[0mimage_name\u001b[0m\u001b[0;34m]\u001b[0m \u001b[0;34m=\u001b[0m \u001b[0mget_surf_descriptors\u001b[0m\u001b[0;34m(\u001b[0m\u001b[0mimage_name\u001b[0m\u001b[0;34m)\u001b[0m\u001b[0;34m[\u001b[0m\u001b[0;36m1\u001b[0m\u001b[0;34m]\u001b[0m\u001b[0;34m\u001b[0m\u001b[0m\n\u001b[0m\u001b[1;32m     29\u001b[0m      \u001b[0;32mreturn\u001b[0m \u001b[0mimage_to_descriptors\u001b[0m\u001b[0;34m\u001b[0m\u001b[0m\n\u001b[1;32m     30\u001b[0m \u001b[0;34m\u001b[0m\u001b[0m\n",
        "\u001b[0;32m<ipython-input-140-b67c19fa9c0c>\u001b[0m in \u001b[0;36mget_surf_descriptors\u001b[0;34m(image_name)\u001b[0m\n\u001b[1;32m     20\u001b[0m      \u001b[0mimg\u001b[0m \u001b[0;34m=\u001b[0m \u001b[0mcv2\u001b[0m\u001b[0;34m.\u001b[0m\u001b[0mimread\u001b[0m\u001b[0;34m(\u001b[0m\u001b[0mimage_name\u001b[0m\u001b[0;34m)\u001b[0m\u001b[0;34m\u001b[0m\u001b[0m\n\u001b[1;32m     21\u001b[0m      \u001b[0mgray\u001b[0m \u001b[0;34m=\u001b[0m \u001b[0mcv2\u001b[0m\u001b[0;34m.\u001b[0m\u001b[0mcvtColor\u001b[0m\u001b[0;34m(\u001b[0m\u001b[0mimg\u001b[0m\u001b[0;34m,\u001b[0m \u001b[0mcv2\u001b[0m\u001b[0;34m.\u001b[0m\u001b[0mCOLOR_BGR2GRAY\u001b[0m\u001b[0;34m)\u001b[0m\u001b[0;34m\u001b[0m\u001b[0m\n\u001b[0;32m---> 22\u001b[0;31m      \u001b[0;34m[\u001b[0m\u001b[0mkp\u001b[0m\u001b[0;34m,\u001b[0m \u001b[0mdesc\u001b[0m\u001b[0;34m]\u001b[0m \u001b[0;34m=\u001b[0m  \u001b[0msurf\u001b[0m\u001b[0;34m.\u001b[0m\u001b[0mdetectAndCompute\u001b[0m\u001b[0;34m(\u001b[0m\u001b[0mgray\u001b[0m\u001b[0;34m,\u001b[0m \u001b[0mNone\u001b[0m\u001b[0;34m)\u001b[0m\u001b[0;34m\u001b[0m\u001b[0m\n\u001b[0m\u001b[1;32m     23\u001b[0m      \u001b[0;32mreturn\u001b[0m \u001b[0mkp\u001b[0m\u001b[0;34m,\u001b[0m \u001b[0mdesc\u001b[0m\u001b[0;34m\u001b[0m\u001b[0m\n\u001b[1;32m     24\u001b[0m \u001b[0;34m\u001b[0m\u001b[0m\n",
        "\u001b[0;31mKeyboardInterrupt\u001b[0m: "
       ]
      }
     ],
     "prompt_number": 140
    },
    {
     "cell_type": "code",
     "collapsed": false,
     "input": [
      "kmeans"
     ],
     "language": "python",
     "metadata": {},
     "outputs": [
      {
       "metadata": {},
       "output_type": "pyout",
       "prompt_number": 141,
       "text": [
        "MiniBatchKMeans(batch_size=100, compute_labels=True, init='k-means++',\n",
        "        init_size=None, max_iter=100, max_no_improvement=10,\n",
        "        n_clusters=1000, n_init=3, random_state=None,\n",
        "        reassignment_ratio=0.01, tol=0.0, verbose=0)"
       ]
      }
     ],
     "prompt_number": 141
    },
    {
     "cell_type": "code",
     "collapsed": false,
     "input": [
      "all_image_histograms = {}\n",
      "# ===== Compute histogram for all logo images\n",
      "for index,image_name in enumerate(total_image_names[:140]):\n",
      "     if index % 10 == 0: print index\n",
      "     labels = kmeans.predict(get_surf_descriptors(image_name)[1])\n",
      "     all_image_histograms[image_name] = create_histogram(labels)\n",
      "\n",
      "# ===== Partition data\n",
      "enc = LabelEncoder()\n",
      "label_encoder = enc.fit(create_labels_matrix(all_image_histograms.keys()))\n",
      "y = label_encoder.transform(create_labels_matrix(all_image_histograms.keys()))\n",
      "x_train, x_test, y_train, y_test = train_test_split(all_image_histograms.values(), y,  test_size=.3, random_state=42)\n",
      "\n",
      "\n",
      "\n"
     ],
     "language": "python",
     "metadata": {},
     "outputs": [
      {
       "output_type": "stream",
       "stream": "stdout",
       "text": [
        "0\n",
        "10"
       ]
      },
      {
       "output_type": "stream",
       "stream": "stdout",
       "text": [
        "\n"
       ]
      },
      {
       "ename": "KeyboardInterrupt",
       "evalue": "",
       "output_type": "pyerr",
       "traceback": [
        "\u001b[0;31m---------------------------------------------------------------------------\u001b[0m\n\u001b[0;31mKeyboardInterrupt\u001b[0m                         Traceback (most recent call last)",
        "\u001b[0;32m<ipython-input-191-7b4d685f56b6>\u001b[0m in \u001b[0;36m<module>\u001b[0;34m()\u001b[0m\n\u001b[1;32m      3\u001b[0m \u001b[0;32mfor\u001b[0m \u001b[0mindex\u001b[0m\u001b[0;34m,\u001b[0m\u001b[0mimage_name\u001b[0m \u001b[0;32min\u001b[0m \u001b[0menumerate\u001b[0m\u001b[0;34m(\u001b[0m\u001b[0mtotal_image_names\u001b[0m\u001b[0;34m[\u001b[0m\u001b[0;34m:\u001b[0m\u001b[0;36m140\u001b[0m\u001b[0;34m]\u001b[0m\u001b[0;34m)\u001b[0m\u001b[0;34m:\u001b[0m\u001b[0;34m\u001b[0m\u001b[0m\n\u001b[1;32m      4\u001b[0m      \u001b[0;32mif\u001b[0m \u001b[0mindex\u001b[0m \u001b[0;34m%\u001b[0m \u001b[0;36m10\u001b[0m \u001b[0;34m==\u001b[0m \u001b[0;36m0\u001b[0m\u001b[0;34m:\u001b[0m \u001b[0;32mprint\u001b[0m \u001b[0mindex\u001b[0m\u001b[0;34m\u001b[0m\u001b[0m\n\u001b[0;32m----> 5\u001b[0;31m      \u001b[0mlabels\u001b[0m \u001b[0;34m=\u001b[0m \u001b[0mkmeans\u001b[0m\u001b[0;34m.\u001b[0m\u001b[0mpredict\u001b[0m\u001b[0;34m(\u001b[0m\u001b[0mget_surf_descriptors\u001b[0m\u001b[0;34m(\u001b[0m\u001b[0mimage_name\u001b[0m\u001b[0;34m)\u001b[0m\u001b[0;34m[\u001b[0m\u001b[0;36m1\u001b[0m\u001b[0;34m]\u001b[0m\u001b[0;34m)\u001b[0m\u001b[0;34m\u001b[0m\u001b[0m\n\u001b[0m\u001b[1;32m      6\u001b[0m      \u001b[0mall_image_histograms\u001b[0m\u001b[0;34m[\u001b[0m\u001b[0mimage_name\u001b[0m\u001b[0;34m]\u001b[0m \u001b[0;34m=\u001b[0m \u001b[0mcreate_histogram\u001b[0m\u001b[0;34m(\u001b[0m\u001b[0mlabels\u001b[0m\u001b[0;34m)\u001b[0m\u001b[0;34m\u001b[0m\u001b[0m\n\u001b[1;32m      7\u001b[0m \u001b[0;34m\u001b[0m\u001b[0m\n",
        "\u001b[0;32m<ipython-input-140-b67c19fa9c0c>\u001b[0m in \u001b[0;36mget_surf_descriptors\u001b[0;34m(image_name)\u001b[0m\n\u001b[1;32m     20\u001b[0m      \u001b[0mimg\u001b[0m \u001b[0;34m=\u001b[0m \u001b[0mcv2\u001b[0m\u001b[0;34m.\u001b[0m\u001b[0mimread\u001b[0m\u001b[0;34m(\u001b[0m\u001b[0mimage_name\u001b[0m\u001b[0;34m)\u001b[0m\u001b[0;34m\u001b[0m\u001b[0m\n\u001b[1;32m     21\u001b[0m      \u001b[0mgray\u001b[0m \u001b[0;34m=\u001b[0m \u001b[0mcv2\u001b[0m\u001b[0;34m.\u001b[0m\u001b[0mcvtColor\u001b[0m\u001b[0;34m(\u001b[0m\u001b[0mimg\u001b[0m\u001b[0;34m,\u001b[0m \u001b[0mcv2\u001b[0m\u001b[0;34m.\u001b[0m\u001b[0mCOLOR_BGR2GRAY\u001b[0m\u001b[0;34m)\u001b[0m\u001b[0;34m\u001b[0m\u001b[0m\n\u001b[0;32m---> 22\u001b[0;31m      \u001b[0;34m[\u001b[0m\u001b[0mkp\u001b[0m\u001b[0;34m,\u001b[0m \u001b[0mdesc\u001b[0m\u001b[0;34m]\u001b[0m \u001b[0;34m=\u001b[0m  \u001b[0msurf\u001b[0m\u001b[0;34m.\u001b[0m\u001b[0mdetectAndCompute\u001b[0m\u001b[0;34m(\u001b[0m\u001b[0mgray\u001b[0m\u001b[0;34m,\u001b[0m \u001b[0mNone\u001b[0m\u001b[0;34m)\u001b[0m\u001b[0;34m\u001b[0m\u001b[0m\n\u001b[0m\u001b[1;32m     23\u001b[0m      \u001b[0;32mreturn\u001b[0m \u001b[0mkp\u001b[0m\u001b[0;34m,\u001b[0m \u001b[0mdesc\u001b[0m\u001b[0;34m\u001b[0m\u001b[0m\n\u001b[1;32m     24\u001b[0m \u001b[0;34m\u001b[0m\u001b[0m\n",
        "\u001b[0;31mKeyboardInterrupt\u001b[0m: "
       ]
      }
     ],
     "prompt_number": 191
    },
    {
     "cell_type": "code",
     "collapsed": false,
     "input": [
      "a = clf.predict(x_test)\n",
      "print len(a)\n",
      "print sum(a == y_test) / len(a)"
     ],
     "language": "python",
     "metadata": {},
     "outputs": [
      {
       "output_type": "stream",
       "stream": "stdout",
       "text": [
        "42\n",
        "0.928571428571\n"
       ]
      }
     ],
     "prompt_number": 349
    },
    {
     "cell_type": "code",
     "collapsed": false,
     "input": [
      "from sklearn.svm import LinearSVC\n",
      "clff = LinearSVC(C = 1000, loss = \"l2\")\n",
      "clff = clf.fit(x_train, y_train)"
     ],
     "language": "python",
     "metadata": {},
     "outputs": [],
     "prompt_number": 346
    },
    {
     "cell_type": "code",
     "collapsed": false,
     "input": [
      "from sklearn import svm\n",
      "clf = svm.SVC(kernel = \"sigmoid\", C = 100)\n",
      "clf = clf.fit(x_train, y_train)"
     ],
     "language": "python",
     "metadata": {},
     "outputs": [],
     "prompt_number": 324
    }
   ],
   "metadata": {}
  }
 ]
}