{
 "metadata": {
  "name": "",
  "signature": "sha256:8a404060a6fbdcb877afeecec9fafb9f5b7466f5681d1448795830f67743ab5d"
 },
 "nbformat": 3,
 "nbformat_minor": 0,
 "worksheets": [
  {
   "cells": [
    {
     "cell_type": "code",
     "collapsed": false,
     "input": [
      "from sklearn.cross_validation import train_test_split\n",
      "from __future__ import division\n",
      "import cv2\n",
      "import numpy as np\n",
      "import glob\n",
      "import os\n",
      "from sklearn.cluster import KMeans, MiniBatchKMeans\n",
      "import scipy.cluster.vq as vq\n",
      "import pdb\n",
      "import cPickle as pickle\n",
      "import numpy\n",
      "from sklearn import svm\n",
      "import random\n",
      "import os.path\n",
      "from scipy import spatial\n",
      "from test_remove import remove_bad_matches\n",
      "from sklearn.preprocessing import LabelEncoder\n",
      "def get_surf_descriptors(image_name):\n",
      "     surf = cv2.SURF(400)\n",
      "     img = cv2.imread(image_name)\n",
      "     gray = cv2.cvtColor(img, cv2.COLOR_BGR2GRAY)\n",
      "     [kp, desc] =  surf.detectAndCompute(gray, None)\n",
      "     return kp, desc\n",
      "\n",
      "def build_dataset(list_of_image_names):\n",
      "     image_to_descriptors = {}\n",
      "     for index,image_name in enumerate(list_of_image_names):\n",
      "          image_to_descriptors[image_name] = get_surf_descriptors(image_name)[1]\n",
      "     return image_to_descriptors\n",
      "\n",
      "def create_labels_matrix(image_names):\n",
      "    labels_matrix = []\n",
      "    for i in image_names:\n",
      "        if i.split(\"/\")[7] == \"no-logo\":\n",
      "            labels_matrix.append(\"no-logo\")\n",
      "        else:\n",
      "            labels_matrix.append(\"starbucks\")\n",
      "    return labels_matrix\n",
      "\n",
      "def create_histogram(labels):\n",
      "     hist, edges = np.histogram(labels, bins=range(num_clusters + 1), normed=True)\n",
      "     return hist"
     ],
     "language": "python",
     "metadata": {},
     "outputs": [
      {
       "output_type": "stream",
       "stream": "stdout",
       "text": [
        "[[1 2 3]\n",
        " [3 4 5]\n",
        " [1 2 3]]\n",
        "[[1 1 1]\n",
        " [2 2 2]\n",
        " [3 3 3]]\n"
       ]
      }
     ],
     "prompt_number": 1
    },
    {
     "cell_type": "code",
     "collapsed": false,
     "input": [
      "label_dict = {0: 'starbucks', 1: 'no-logo'}\n",
      "folder_name = \"/Users/User1/Downloads/FlickrLogos-v2/classes/jpg/starbucks/\"\n",
      "other_folder_name = \"/Users/User1/Downloads/FlickrLogos-v2/classes/jpg/no-logo/\"\n",
      "image_names = glob.glob(os.path.join(folder_name, \"*.jpg\")) + glob.glob(os.path.join(other_folder_name, \"*.jpg\"))[:70]\n",
      "num_clusters = 1000\n",
      "all_image_histograms = {}\n",
      "# ===== Read in logo + mask images and compute sift descriptors\n",
      "image_to_descriptors = build_dataset(image_names)\n",
      "all_descriptors = np.vstack(image_to_descriptors.values())\n",
      "\n",
      "# ===== Build vocab list using kmeans\n",
      "kmeans = MiniBatchKMeans(n_clusters = num_clusters)\n",
      "kmeans.fit(all_descriptors)"
     ],
     "language": "python",
     "metadata": {},
     "outputs": [
      {
       "ename": "KeyboardInterrupt",
       "evalue": "",
       "output_type": "pyerr",
       "traceback": [
        "\u001b[0;31m---------------------------------------------------------------------------\u001b[0m\n\u001b[0;31mKeyboardInterrupt\u001b[0m                         Traceback (most recent call last)",
        "\u001b[0;32m<ipython-input-2-547fc0d68c71>\u001b[0m in \u001b[0;36m<module>\u001b[0;34m()\u001b[0m\n\u001b[1;32m      6\u001b[0m \u001b[0mall_image_histograms\u001b[0m \u001b[0;34m=\u001b[0m \u001b[0;34m{\u001b[0m\u001b[0;34m}\u001b[0m\u001b[0;34m\u001b[0m\u001b[0m\n\u001b[1;32m      7\u001b[0m \u001b[0;31m# ===== Read in logo + mask images and compute sift descriptors\u001b[0m\u001b[0;34m\u001b[0m\u001b[0;34m\u001b[0m\u001b[0m\n\u001b[0;32m----> 8\u001b[0;31m \u001b[0mimage_to_descriptors\u001b[0m \u001b[0;34m=\u001b[0m \u001b[0mbuild_dataset\u001b[0m\u001b[0;34m(\u001b[0m\u001b[0mimage_names\u001b[0m\u001b[0;34m)\u001b[0m\u001b[0;34m\u001b[0m\u001b[0m\n\u001b[0m\u001b[1;32m      9\u001b[0m \u001b[0mall_descriptors\u001b[0m \u001b[0;34m=\u001b[0m \u001b[0mnp\u001b[0m\u001b[0;34m.\u001b[0m\u001b[0mvstack\u001b[0m\u001b[0;34m(\u001b[0m\u001b[0mimage_to_descriptors\u001b[0m\u001b[0;34m.\u001b[0m\u001b[0mvalues\u001b[0m\u001b[0;34m(\u001b[0m\u001b[0;34m)\u001b[0m\u001b[0;34m)\u001b[0m\u001b[0;34m\u001b[0m\u001b[0m\n\u001b[1;32m     10\u001b[0m \u001b[0;34m\u001b[0m\u001b[0m\n",
        "\u001b[0;32m<ipython-input-1-367a37099533>\u001b[0m in \u001b[0;36mbuild_dataset\u001b[0;34m(list_of_image_names)\u001b[0m\n\u001b[1;32m     26\u001b[0m      \u001b[0mimage_to_descriptors\u001b[0m \u001b[0;34m=\u001b[0m \u001b[0;34m{\u001b[0m\u001b[0;34m}\u001b[0m\u001b[0;34m\u001b[0m\u001b[0m\n\u001b[1;32m     27\u001b[0m      \u001b[0;32mfor\u001b[0m \u001b[0mindex\u001b[0m\u001b[0;34m,\u001b[0m\u001b[0mimage_name\u001b[0m \u001b[0;32min\u001b[0m \u001b[0menumerate\u001b[0m\u001b[0;34m(\u001b[0m\u001b[0mlist_of_image_names\u001b[0m\u001b[0;34m)\u001b[0m\u001b[0;34m:\u001b[0m\u001b[0;34m\u001b[0m\u001b[0m\n\u001b[0;32m---> 28\u001b[0;31m           \u001b[0mimage_to_descriptors\u001b[0m\u001b[0;34m[\u001b[0m\u001b[0mimage_name\u001b[0m\u001b[0;34m]\u001b[0m \u001b[0;34m=\u001b[0m \u001b[0mget_surf_descriptors\u001b[0m\u001b[0;34m(\u001b[0m\u001b[0mimage_name\u001b[0m\u001b[0;34m)\u001b[0m\u001b[0;34m[\u001b[0m\u001b[0;36m1\u001b[0m\u001b[0;34m]\u001b[0m\u001b[0;34m\u001b[0m\u001b[0m\n\u001b[0m\u001b[1;32m     29\u001b[0m      \u001b[0;32mreturn\u001b[0m \u001b[0mimage_to_descriptors\u001b[0m\u001b[0;34m\u001b[0m\u001b[0m\n\u001b[1;32m     30\u001b[0m \u001b[0;34m\u001b[0m\u001b[0m\n",
        "\u001b[0;32m<ipython-input-1-367a37099533>\u001b[0m in \u001b[0;36mget_surf_descriptors\u001b[0;34m(image_name)\u001b[0m\n\u001b[1;32m     20\u001b[0m      \u001b[0mimg\u001b[0m \u001b[0;34m=\u001b[0m \u001b[0mcv2\u001b[0m\u001b[0;34m.\u001b[0m\u001b[0mimread\u001b[0m\u001b[0;34m(\u001b[0m\u001b[0mimage_name\u001b[0m\u001b[0;34m)\u001b[0m\u001b[0;34m\u001b[0m\u001b[0m\n\u001b[1;32m     21\u001b[0m      \u001b[0mgray\u001b[0m \u001b[0;34m=\u001b[0m \u001b[0mcv2\u001b[0m\u001b[0;34m.\u001b[0m\u001b[0mcvtColor\u001b[0m\u001b[0;34m(\u001b[0m\u001b[0mimg\u001b[0m\u001b[0;34m,\u001b[0m \u001b[0mcv2\u001b[0m\u001b[0;34m.\u001b[0m\u001b[0mCOLOR_BGR2GRAY\u001b[0m\u001b[0;34m)\u001b[0m\u001b[0;34m\u001b[0m\u001b[0m\n\u001b[0;32m---> 22\u001b[0;31m      \u001b[0;34m[\u001b[0m\u001b[0mkp\u001b[0m\u001b[0;34m,\u001b[0m \u001b[0mdesc\u001b[0m\u001b[0;34m]\u001b[0m \u001b[0;34m=\u001b[0m  \u001b[0msurf\u001b[0m\u001b[0;34m.\u001b[0m\u001b[0mdetectAndCompute\u001b[0m\u001b[0;34m(\u001b[0m\u001b[0mgray\u001b[0m\u001b[0;34m,\u001b[0m \u001b[0mNone\u001b[0m\u001b[0;34m)\u001b[0m\u001b[0;34m\u001b[0m\u001b[0m\n\u001b[0m\u001b[1;32m     23\u001b[0m      \u001b[0;32mreturn\u001b[0m \u001b[0mkp\u001b[0m\u001b[0;34m,\u001b[0m \u001b[0mdesc\u001b[0m\u001b[0;34m\u001b[0m\u001b[0m\n\u001b[1;32m     24\u001b[0m \u001b[0;34m\u001b[0m\u001b[0m\n",
        "\u001b[0;31mKeyboardInterrupt\u001b[0m: "
       ]
      }
     ],
     "prompt_number": 2
    },
    {
     "cell_type": "code",
     "collapsed": false,
     "input": [],
     "language": "python",
     "metadata": {},
     "outputs": []
    }
   ],
   "metadata": {}
  }
 ]
}