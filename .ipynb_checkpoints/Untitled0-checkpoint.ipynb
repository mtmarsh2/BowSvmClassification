{
 "metadata": {
  "name": "",
  "signature": "sha256:9eb66df855f33627a508a350a61cf30197f5cb7c3e7142fc61c9a8503fcf6cbc"
 },
 "nbformat": 3,
 "nbformat_minor": 0,
 "worksheets": [
  {
   "cells": [
    {
     "cell_type": "code",
     "collapsed": false,
     "input": [
      "for image_name in list_of_image_names[:10]:\n",
      "\ttarget_hist = create_histogram((kmeans.predict(get_sift_descriptors(image_name))))\n",
      "\tprint clf.predict(target_hist)[0] + image_name"
     ],
     "language": "python",
     "metadata": {},
     "outputs": [],
     "prompt_number": 38
    },
    {
     "cell_type": "code",
     "collapsed": false,
     "input": [],
     "language": "python",
     "metadata": {},
     "outputs": []
    }
   ],
   "metadata": {}
  }
 ]
}