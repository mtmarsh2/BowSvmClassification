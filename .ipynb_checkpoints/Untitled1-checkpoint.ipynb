{
 "metadata": {
  "name": "",
  "signature": "sha256:a48acf6cc895bd5b62a2fbf4231ecc257a484b801c52a4faf9bff3082d159e49"
 },
 "nbformat": 3,
 "nbformat_minor": 0,
 "worksheets": [
  {
   "cells": [
    {
     "cell_type": "code",
     "collapsed": false,
     "input": [
      "def build_dataset(list_of_image_names):\n",
      "     image_to_descriptors = {}\n",
      "     for index,image_name in enumerate(list_of_image_names):\n",
      "          image_to_descriptors[image_name] = get_sift_descriptors(image_name)[1]\n",
      "     return image_to_descriptors"
     ],
     "language": "python",
     "metadata": {},
     "outputs": [],
     "prompt_number": 22
    },
    {
     "cell_type": "code",
     "collapsed": false,
     "input": [
      "image_to_descriptors = build_dataset(list_of_logo_image_names)\n",
      "list_of_sift_descriptors_logos = np.vstack(image_to_descriptors.values())"
     ],
     "language": "python",
     "metadata": {},
     "outputs": [],
     "prompt_number": 23
    },
    {
     "cell_type": "code",
     "collapsed": false,
     "input": [
      "# ===== Read in non logo images and compute sift descriptors on those also\n",
      "non_logo_image_descriptors = build_dataset(list_of_non_logo_image_names)\n",
      "list_of_sift_descriptors_nonlogos = np.vstack(non_logo_image_descriptors.values())"
     ],
     "language": "python",
     "metadata": {},
     "outputs": [],
     "prompt_number": 24
    },
    {
     "cell_type": "code",
     "collapsed": false,
     "input": [
      "all_descriptors = np.vstack( (list_of_sift_descriptors_logos, list_of_sift_descriptors_nonlogos))"
     ],
     "language": "python",
     "metadata": {},
     "outputs": [],
     "prompt_number": 25
    },
    {
     "cell_type": "code",
     "collapsed": false,
     "input": [
      "kmeans = pickle.load(open('/Users/User1/Downloads/FlickrLogos-v2/classes/jpg/starbucks/codeword', 'rb'))"
     ],
     "language": "python",
     "metadata": {},
     "outputs": [],
     "prompt_number": 30
    },
    {
     "cell_type": "code",
     "collapsed": false,
     "input": [
      "kmeans"
     ],
     "language": "python",
     "metadata": {},
     "outputs": [
      {
       "metadata": {},
       "output_type": "pyout",
       "prompt_number": 31,
       "text": [
        "MiniBatchKMeans(batch_size=100, compute_labels=True, init='k-means++',\n",
        "        init_size=None, max_iter=100, max_no_improvement=10,\n",
        "        n_clusters=10000, n_init=3, random_state=None,\n",
        "        reassignment_ratio=0.01, tol=0.0, verbose=0)"
       ]
      }
     ],
     "prompt_number": 31
    },
    {
     "cell_type": "code",
     "collapsed": false,
     "input": [
      "ls"
     ],
     "language": "python",
     "metadata": {},
     "outputs": [
      {
       "output_type": "stream",
       "stream": "stdout",
       "text": [
        "Untitled0.ipynb          classifyCatvsDog.py      common.pyc               findLogo.py              sift_descriptors.pickle\r\n",
        "Untitled1.ipynb          common.py                findLogo.bak             sift.ipynb               testransac.py\r\n"
       ]
      }
     ],
     "prompt_number": 28
    },
    {
     "cell_type": "code",
     "collapsed": false,
     "input": [
      "# ===== Compute histogram for all logo images\n",
      "for index,image_name in enumerate(list_of_logo_image_names):\n",
      "     if index % 1000 ==0: print index\n",
      "     #image_to_descriptors[image_name] = get_sift_descriptors(image_name)\n",
      "     labels = kmeans.predict(image_to_descriptors[image_name])\n",
      "     all_image_histograms[image_name] = create_histogram(labels)"
     ],
     "language": "python",
     "metadata": {},
     "outputs": [
      {
       "output_type": "stream",
       "stream": "stdout",
       "text": [
        "0\n"
       ]
      }
     ],
     "prompt_number": 32
    },
    {
     "cell_type": "code",
     "collapsed": false,
     "input": [
      "# ===== Compute histogram for all non logo images\n",
      "for index,image_name in enumerate(list_of_non_logo_image_names):\n",
      "     if index % 1000 ==0: print index\n",
      "     #image_to_descriptors[image_name] = get_sift_descriptors(image_name)\n",
      "     labels = kmeans.predict(non_logo_image_descriptors[image_name])\n",
      "     all_image_histograms[image_name] = create_histogram(labels)"
     ],
     "language": "python",
     "metadata": {},
     "outputs": [
      {
       "output_type": "stream",
       "stream": "stdout",
       "text": [
        "0\n"
       ]
      }
     ],
     "prompt_number": 34
    },
    {
     "cell_type": "code",
     "collapsed": false,
     "input": [
      "mytree = spatial.KDTree(all_image_histograms.values())"
     ],
     "language": "python",
     "metadata": {},
     "outputs": [],
     "prompt_number": 35
    },
    {
     "cell_type": "code",
     "collapsed": false,
     "input": [
      "new_image = glob.glob(os.path.join(folder_name, \"*.jpg\"))[5]\n",
      "logo_and_mask_image = combine_with_mask(new_image)\n",
      "assert(len(logo_and_mask_image) != 0)\n",
      "cv2.imwrite(\"/Users/User1/Downloads/FlickrLogos-v2/classes/combined/%s\" % os.path.basename(new_image), logo_and_mask_image)\n",
      "target_image_descriptor = build_dataset([new_image])\n",
      "labels = kmeans.predict(target_image_descriptor[new_image])\n",
      "target_histogram = create_histogram(labels)\n",
      "assert( len(target_histogram) == num_clusters)"
     ],
     "language": "python",
     "metadata": {},
     "outputs": [],
     "prompt_number": 36
    },
    {
     "cell_type": "code",
     "collapsed": false,
     "input": [
      "[a,b] = mytree.query(target_histogram, k=20)"
     ],
     "language": "python",
     "metadata": {},
     "outputs": [],
     "prompt_number": 44
    },
    {
     "cell_type": "code",
     "collapsed": false,
     "input": [
      "b"
     ],
     "language": "python",
     "metadata": {},
     "outputs": [
      {
       "metadata": {},
       "output_type": "pyout",
       "prompt_number": 45,
       "text": [
        "array([11, 48, 23, 20, 22, 35,  8,  5, 49, 12, 40,  2, 52, 28, 51, 16, 10,\n",
        "       13, 43, 31])"
       ]
      }
     ],
     "prompt_number": 45
    },
    {
     "cell_type": "code",
     "collapsed": false,
     "input": [
      "for i in b:\n",
      "    print all_image_histograms.keys()[i]"
     ],
     "language": "python",
     "metadata": {},
     "outputs": [
      {
       "output_type": "stream",
       "stream": "stdout",
       "text": [
        "/Users/User1/Downloads/FlickrLogos-v2/classes/jpg/starbucks/123248644.jpg\n",
        "/Users/User1/Downloads/FlickrLogos-v2/classes/jpg/no-logo/102727726.jpg\n",
        "/Users/User1/Downloads/FlickrLogos-v2/classes/jpg/no-logo/101754604.jpg\n",
        "/Users/User1/Downloads/FlickrLogos-v2/classes/jpg/no-logo/102727416.jpg\n",
        "/Users/User1/Downloads/FlickrLogos-v2/classes/jpg/no-logo/105247609.jpg\n",
        "/Users/User1/Downloads/FlickrLogos-v2/classes/jpg/no-logo/110365386.jpg\n",
        "/Users/User1/Downloads/FlickrLogos-v2/classes/jpg/no-logo/102143616.jpg\n",
        "/Users/User1/Downloads/FlickrLogos-v2/classes/jpg/no-logo/102142080.jpg\n",
        "/Users/User1/Downloads/FlickrLogos-v2/classes/jpg/starbucks/121116633.jpg\n",
        "/Users/User1/Downloads/FlickrLogos-v2/classes/jpg/no-logo/1075400660.jpg\n",
        "/Users/User1/Downloads/FlickrLogos-v2/classes/jpg/no-logo/101754600.jpg\n",
        "/Users/User1/Downloads/FlickrLogos-v2/classes/jpg/no-logo/102141626.jpg\n",
        "/Users/User1/Downloads/FlickrLogos-v2/classes/jpg/no-logo/107661592.jpg\n",
        "/Users/User1/Downloads/FlickrLogos-v2/classes/jpg/no-logo/107657365.jpg\n",
        "/Users/User1/Downloads/FlickrLogos-v2/classes/jpg/no-logo/1145479214.jpg\n",
        "/Users/User1/Downloads/FlickrLogos-v2/classes/jpg/no-logo/103269535.jpg\n",
        "/Users/User1/Downloads/FlickrLogos-v2/classes/jpg/no-logo/1063204451.jpg\n",
        "/Users/User1/Downloads/FlickrLogos-v2/classes/jpg/no-logo/107052565.jpg\n",
        "/Users/User1/Downloads/FlickrLogos-v2/classes/jpg/no-logo/1146911344.jpg\n",
        "/Users/User1/Downloads/FlickrLogos-v2/classes/jpg/no-logo/1075510925.jpg\n"
       ]
      }
     ],
     "prompt_number": 46
    },
    {
     "cell_type": "code",
     "collapsed": false,
     "input": [
      "a"
     ],
     "language": "python",
     "metadata": {},
     "outputs": [
      {
       "metadata": {},
       "output_type": "pyout",
       "prompt_number": 47,
       "text": [
        "array([ 44.87761134,  45.78209257,  45.88027899,  47.9165942 ,\n",
        "        49.36598019,  50.009999  ,  54.70831747,  55.22680509,\n",
        "        55.72252686,  56.42694392,  58.46366393,  63.74166612,\n",
        "        64.56004957,  67.03730305,  73.11634564,  75.49834435,\n",
        "        75.66372975,  77.95511529,  78.61933604,  79.66806135])"
       ]
      }
     ],
     "prompt_number": 47
    },
    {
     "cell_type": "code",
     "collapsed": false,
     "input": [
      "def ransac_test(target_image_name, list_of_neighbors):\n",
      "    norm = cv2.NORM_L2\n",
      "    matcher = cv2.BFMatcher(norm)\n",
      "    close_neighbors = []\n",
      "    target_kp, target_desc = get_sift_descriptors(target_image_name)\n",
      "    for image_name in list_of_neighbors:\n",
      "        neighbor_kp, neighbor_desc = get_sift_descriptors(image_name)\n",
      "        raw_matches = matcher.knnMatch(target_desc, trainDescriptors = neighbor_desc, k = 2) #2\n",
      "        p1, p2, kp_pairs = filter_matches(target_kp, neighbor_kp, raw_matches)\n",
      "        print str(len(p1)) + str(p2)\n",
      "        if len(p1) >= 4:\n",
      "            H, status = cv2.findHomography(p1, p2, cv2.RANSAC, 5.0)\n",
      "            if len(np.sum(status)) >= 20: close_neighbors.append(image_name)\n",
      "            print '%d / %d  inliers/matched' % (np.sum(status), len(status))\n",
      "        else:\n",
      "            H, status = None, None\n",
      "            print '%d matches found, not enough for homography estimation' % len(p1)\n",
      "    return close_neighbors"
     ],
     "language": "python",
     "metadata": {},
     "outputs": [],
     "prompt_number": 58
    },
    {
     "cell_type": "code",
     "collapsed": false,
     "input": [
      "neighbor_list = []\n",
      "for i in b:\n",
      "    neighbor_list.append(all_image_histograms.keys()[i])"
     ],
     "language": "python",
     "metadata": {},
     "outputs": [],
     "prompt_number": 49
    },
    {
     "cell_type": "code",
     "collapsed": false,
     "input": [
      "neighbor_list"
     ],
     "language": "python",
     "metadata": {},
     "outputs": [
      {
       "metadata": {},
       "output_type": "pyout",
       "prompt_number": 50,
       "text": [
        "['/Users/User1/Downloads/FlickrLogos-v2/classes/jpg/starbucks/123248644.jpg',\n",
        " '/Users/User1/Downloads/FlickrLogos-v2/classes/jpg/no-logo/102727726.jpg',\n",
        " '/Users/User1/Downloads/FlickrLogos-v2/classes/jpg/no-logo/101754604.jpg',\n",
        " '/Users/User1/Downloads/FlickrLogos-v2/classes/jpg/no-logo/102727416.jpg',\n",
        " '/Users/User1/Downloads/FlickrLogos-v2/classes/jpg/no-logo/105247609.jpg',\n",
        " '/Users/User1/Downloads/FlickrLogos-v2/classes/jpg/no-logo/110365386.jpg',\n",
        " '/Users/User1/Downloads/FlickrLogos-v2/classes/jpg/no-logo/102143616.jpg',\n",
        " '/Users/User1/Downloads/FlickrLogos-v2/classes/jpg/no-logo/102142080.jpg',\n",
        " '/Users/User1/Downloads/FlickrLogos-v2/classes/jpg/starbucks/121116633.jpg',\n",
        " '/Users/User1/Downloads/FlickrLogos-v2/classes/jpg/no-logo/1075400660.jpg',\n",
        " '/Users/User1/Downloads/FlickrLogos-v2/classes/jpg/no-logo/101754600.jpg',\n",
        " '/Users/User1/Downloads/FlickrLogos-v2/classes/jpg/no-logo/102141626.jpg',\n",
        " '/Users/User1/Downloads/FlickrLogos-v2/classes/jpg/no-logo/107661592.jpg',\n",
        " '/Users/User1/Downloads/FlickrLogos-v2/classes/jpg/no-logo/107657365.jpg',\n",
        " '/Users/User1/Downloads/FlickrLogos-v2/classes/jpg/no-logo/1145479214.jpg',\n",
        " '/Users/User1/Downloads/FlickrLogos-v2/classes/jpg/no-logo/103269535.jpg',\n",
        " '/Users/User1/Downloads/FlickrLogos-v2/classes/jpg/no-logo/1063204451.jpg',\n",
        " '/Users/User1/Downloads/FlickrLogos-v2/classes/jpg/no-logo/107052565.jpg',\n",
        " '/Users/User1/Downloads/FlickrLogos-v2/classes/jpg/no-logo/1146911344.jpg',\n",
        " '/Users/User1/Downloads/FlickrLogos-v2/classes/jpg/no-logo/1075510925.jpg']"
       ]
      }
     ],
     "prompt_number": 50
    },
    {
     "cell_type": "code",
     "collapsed": false,
     "input": [
      "close_images = ransac_test(new_image, neighbor_list)"
     ],
     "language": "python",
     "metadata": {},
     "outputs": [
      {
       "output_type": "stream",
       "stream": "stdout",
       "text": [
        "37 / 87  inliers/matched\n",
        "5 / 10  inliers/matched"
       ]
      },
      {
       "output_type": "stream",
       "stream": "stdout",
       "text": [
        "\n",
        "5 / 7  inliers/matched"
       ]
      },
      {
       "output_type": "stream",
       "stream": "stdout",
       "text": [
        "\n",
        "4 / 6  inliers/matched"
       ]
      },
      {
       "output_type": "stream",
       "stream": "stdout",
       "text": [
        "\n",
        "5 / 10  inliers/matched"
       ]
      },
      {
       "output_type": "stream",
       "stream": "stdout",
       "text": [
        "\n",
        "7 / 25  inliers/matched"
       ]
      },
      {
       "output_type": "stream",
       "stream": "stdout",
       "text": [
        "\n",
        "7 / 12  inliers/matched"
       ]
      },
      {
       "output_type": "stream",
       "stream": "stdout",
       "text": [
        "\n",
        "8 / 18  inliers/matched"
       ]
      },
      {
       "output_type": "stream",
       "stream": "stdout",
       "text": [
        "\n",
        "21 / 48  inliers/matched"
       ]
      },
      {
       "output_type": "stream",
       "stream": "stdout",
       "text": [
        "\n",
        "6 / 12  inliers/matched"
       ]
      },
      {
       "output_type": "stream",
       "stream": "stdout",
       "text": [
        "\n",
        "15 / 29  inliers/matched"
       ]
      },
      {
       "output_type": "stream",
       "stream": "stdout",
       "text": [
        "\n",
        "6 / 12  inliers/matched"
       ]
      },
      {
       "output_type": "stream",
       "stream": "stdout",
       "text": [
        "\n",
        "7 / 13  inliers/matched"
       ]
      },
      {
       "output_type": "stream",
       "stream": "stdout",
       "text": [
        "\n",
        "7 / 18  inliers/matched"
       ]
      },
      {
       "output_type": "stream",
       "stream": "stdout",
       "text": [
        "\n",
        "4 / 5  inliers/matched"
       ]
      },
      {
       "output_type": "stream",
       "stream": "stdout",
       "text": [
        "\n",
        "4 / 7  inliers/matched"
       ]
      },
      {
       "output_type": "stream",
       "stream": "stdout",
       "text": [
        "\n",
        "13 / 32  inliers/matched"
       ]
      },
      {
       "output_type": "stream",
       "stream": "stdout",
       "text": [
        "\n",
        "9 / 16  inliers/matched"
       ]
      },
      {
       "output_type": "stream",
       "stream": "stdout",
       "text": [
        "\n",
        "5 / 10  inliers/matched"
       ]
      },
      {
       "output_type": "stream",
       "stream": "stdout",
       "text": [
        "\n",
        "8 / 13  inliers/matched"
       ]
      },
      {
       "output_type": "stream",
       "stream": "stdout",
       "text": [
        "\n"
       ]
      }
     ],
     "prompt_number": 56
    },
    {
     "cell_type": "code",
     "collapsed": false,
     "input": [
      "print close_images\n"
     ],
     "language": "python",
     "metadata": {},
     "outputs": [
      {
       "output_type": "stream",
       "stream": "stdout",
       "text": [
        "['/Users/User1/Downloads/FlickrLogos-v2/classes/jpg/starbucks/123248644.jpg', '/Users/User1/Downloads/FlickrLogos-v2/classes/jpg/no-logo/110365386.jpg', '/Users/User1/Downloads/FlickrLogos-v2/classes/jpg/starbucks/121116633.jpg', '/Users/User1/Downloads/FlickrLogos-v2/classes/jpg/no-logo/101754600.jpg', '/Users/User1/Downloads/FlickrLogos-v2/classes/jpg/no-logo/1063204451.jpg']\n"
       ]
      }
     ],
     "prompt_number": 57
    },
    {
     "cell_type": "code",
     "collapsed": false,
     "input": [],
     "language": "python",
     "metadata": {},
     "outputs": []
    }
   ],
   "metadata": {}
  }
 ]
}