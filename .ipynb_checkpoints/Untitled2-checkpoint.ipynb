{
 "metadata": {
  "name": "",
  "signature": "sha256:09b0e0dbef410029118ed7b6314a238bccf407a82f2f466c12c7cd2f19b67844"
 },
 "nbformat": 3,
 "nbformat_minor": 0,
 "worksheets": []
}