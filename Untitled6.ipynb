{
 "metadata": {
  "name": "",
  "signature": "sha256:913b977d9429b6fd587ad6e930a16e82d114b7f15163267a164649995187ab03"
 },
 "nbformat": 3,
 "nbformat_minor": 0,
 "worksheets": [
  {
   "cells": [
    {
     "cell_type": "code",
     "collapsed": false,
     "input": [
      "from multiprocessing import Pool"
     ],
     "language": "python",
     "metadata": {},
     "outputs": [],
     "prompt_number": 4
    },
    {
     "cell_type": "code",
     "collapsed": false,
     "input": [
      "import time\n",
      "def hi(x):\n",
      "    return 2*x\n",
      "my_pool = Pool(processes = 6)\n",
      "iterable = range(10000000)\n",
      "t0 = time.clock()\n",
      "my_pool.map(hi, iterable)\n",
      "print time.clock() - t0,"
     ],
     "language": "python",
     "metadata": {},
     "outputs": [
      {
       "output_type": "stream",
       "stream": "stdout",
       "text": [
        "1.860689\n"
       ]
      }
     ],
     "prompt_number": 19
    },
    {
     "cell_type": "code",
     "collapsed": false,
     "input": [
      "def hi(x):\n",
      "    return 2*x\n",
      "iterable = range(1000000)\n",
      "t0 = time.clock()\n",
      "for i in iterable:\n",
      "    hi(i)\n",
      "print time.clock() - t0,"
     ],
     "language": "python",
     "metadata": {},
     "outputs": [
      {
       "output_type": "stream",
       "stream": "stdout",
       "text": [
        "0.273135\n"
       ]
      }
     ],
     "prompt_number": 18
    },
    {
     "cell_type": "code",
     "collapsed": false,
     "input": [],
     "language": "python",
     "metadata": {},
     "outputs": []
    }
   ],
   "metadata": {}
  }
 ]
}