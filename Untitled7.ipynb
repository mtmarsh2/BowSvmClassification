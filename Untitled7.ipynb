{
 "metadata": {
  "name": "",
  "signature": "sha256:3ebcbfcaf55c7bec7156034f351a6c6c9ce644d880575d3bff0ace62aa314e8d"
 },
 "nbformat": 3,
 "nbformat_minor": 0,
 "worksheets": [
  {
   "cells": [
    {
     "cell_type": "code",
     "collapsed": false,
     "input": [
      "from sklearn.cross_validation import train_test_split\n",
      "from __future__ import division\n",
      "import cv2\n",
      "import numpy as np\n",
      "import glob\n",
      "import os\n",
      "from sklearn.cluster import KMeans, MiniBatchKMeans\n",
      "import scipy.cluster.vq as vq\n",
      "import pdb\n",
      "import cPickle as pickle\n",
      "import numpy\n",
      "from sklearn import svm\n",
      "import random\n",
      "import os.path\n",
      "from scipy import spatial\n",
      "from test_remove import remove_bad_matches\n",
      "from sklearn.preprocessing import LabelEncoder\n",
      "def get_surf_descriptors(image_name):\n",
      "     surf = cv2.SURF(400)\n",
      "     img = cv2.imread(image_name)\n",
      "     gray = cv2.cvtColor(img, cv2.COLOR_BGR2GRAY)\n",
      "     [kp, desc] =  surf.detectAndCompute(gray, None)\n",
      "     return kp, desc\n",
      "\n",
      "def build_dataset(list_of_image_names):\n",
      "     image_to_descriptors = {}\n",
      "     for index,image_name in enumerate(list_of_image_names):\n",
      "          image_to_descriptors[image_name] = get_surf_descriptors(image_name)[1]\n",
      "     return image_to_descriptors\n",
      "\n",
      "def create_labels_matrix(image_names):\n",
      "    labels_matrix = []\n",
      "    for i in image_names:\n",
      "        if i.split(\"/\")[7] == \"no-logo\":\n",
      "            labels_matrix.append(\"no-logo\")\n",
      "        else:\n",
      "            labels_matrix.append(\"starbucks\")\n",
      "    return labels_matrix\n",
      "\n",
      "def create_histogram(labels):\n",
      "     hist, edges = np.histogram(labels, bins=range(num_clusters + 1), normed=True)\n",
      "     return hist"
     ],
     "language": "python",
     "metadata": {},
     "outputs": [
      {
       "output_type": "stream",
       "stream": "stdout",
       "text": [
        "[[1 2 3]\n",
        " [3 4 5]\n",
        " [1 2 3]]\n",
        "[[1 1 1]\n",
        " [2 2 2]\n",
        " [3 3 3]]\n"
       ]
      }
     ],
     "prompt_number": 1
    },
    {
     "cell_type": "code",
     "collapsed": false,
     "input": [
      "label_dict = {0: 'starbucks', 1: 'no-logo'}\n",
      "folder_name = \"/Users/User1/Downloads/FlickrLogos-v2/classes/jpg/starbucks/\"\n",
      "other_folder_name = \"/Users/User1/Downloads/FlickrLogos-v2/classes/jpg/no-logo/\"\n",
      "image_names = glob.glob(os.path.join(folder_name, \"*.jpg\")) + glob.glob(os.path.join(other_folder_name, \"*.jpg\"))[:70]\n",
      "num_clusters = 1000\n",
      "all_image_histograms = {}\n",
      "# ===== Read in logo + mask images and compute sift descriptors\n",
      "image_to_descriptors = build_dataset(image_names)\n",
      "all_descriptors = np.vstack(image_to_descriptors.values())\n",
      "\n",
      "# ===== Build vocab list using kmeans\n",
      "kmeans = MiniBatchKMeans(n_clusters = num_clusters)\n",
      "kmeans.fit(all_descriptors)"
     ],
     "language": "python",
     "metadata": {},
     "outputs": [
      {
       "output_type": "stream",
       "stream": "stderr",
       "text": [
        "/Library/Python/2.7/site-packages/sklearn/cluster/k_means_.py:1201: RuntimeWarning: init_size=300 should be larger than k=1000. Setting it to 3*k\n",
        "  init_size=init_size)\n"
       ]
      },
      {
       "metadata": {},
       "output_type": "pyout",
       "prompt_number": 3,
       "text": [
        "MiniBatchKMeans(batch_size=100, compute_labels=True, init='k-means++',\n",
        "        init_size=None, max_iter=100, max_no_improvement=10,\n",
        "        n_clusters=1000, n_init=3, random_state=None,\n",
        "        reassignment_ratio=0.01, tol=0.0, verbose=0)"
       ]
      }
     ],
     "prompt_number": 3
    },
    {
     "cell_type": "code",
     "collapsed": false,
     "input": [
      "svm.predict(all_image_histograms.values()[0])[0]"
     ],
     "language": "python",
     "metadata": {},
     "outputs": [
      {
       "metadata": {},
       "output_type": "pyout",
       "prompt_number": 28,
       "text": [
        "1"
       ]
      }
     ],
     "prompt_number": 28
    },
    {
     "cell_type": "code",
     "collapsed": false,
     "input": [
      "ff = open(\"kmeans.pickle\", \"r+\")"
     ],
     "language": "python",
     "metadata": {},
     "outputs": [],
     "prompt_number": 35
    },
    {
     "cell_type": "code",
     "collapsed": false,
     "input": [
      "svm = pickle.load(open(\"/Users/User1/classify/codewords.pickle\", \"rb\"))"
     ],
     "language": "python",
     "metadata": {},
     "outputs": [
      {
       "ename": "ValueError",
       "evalue": "insecure string pickle",
       "output_type": "pyerr",
       "traceback": [
        "\u001b[0;31m---------------------------------------------------------------------------\u001b[0m\n\u001b[0;31mValueError\u001b[0m                                Traceback (most recent call last)",
        "\u001b[0;32m<ipython-input-34-a859c5de1c38>\u001b[0m in \u001b[0;36m<module>\u001b[0;34m()\u001b[0m\n\u001b[0;32m----> 1\u001b[0;31m \u001b[0msvm\u001b[0m \u001b[0;34m=\u001b[0m \u001b[0mpickle\u001b[0m\u001b[0;34m.\u001b[0m\u001b[0mload\u001b[0m\u001b[0;34m(\u001b[0m\u001b[0mopen\u001b[0m\u001b[0;34m(\u001b[0m\u001b[0;34m\"/Users/User1/classify/codewords.pickle\"\u001b[0m\u001b[0;34m,\u001b[0m \u001b[0;34m\"rb\"\u001b[0m\u001b[0;34m)\u001b[0m\u001b[0;34m)\u001b[0m\u001b[0;34m\u001b[0m\u001b[0m\n\u001b[0m",
        "\u001b[0;31mValueError\u001b[0m: insecure string pickle"
       ]
      }
     ],
     "prompt_number": 34
    },
    {
     "cell_type": "code",
     "collapsed": false,
     "input": [
      "kmeans = pickle.load(ff)"
     ],
     "language": "python",
     "metadata": {},
     "outputs": [],
     "prompt_number": 36
    },
    {
     "cell_type": "code",
     "collapsed": false,
     "input": [
      "all_image_histograms = {}\n",
      "# ===== Compute histogram for all logo images\n",
      "for index,image_name in enumerate(image_names):\n",
      "     if index % 1000 ==0: print index\n",
      "     labels = kmeans.predict(image_to_descriptors[image_name])\n",
      "     all_image_histograms[image_name] = create_histogram(labels)\n",
      "\n",
      "# ===== Partition data\n",
      "enc = LabelEncoder()\n",
      "label_encoder = enc.fit(create_labels_matrix(all_image_histograms.keys()))\n",
      "y = label_encoder.transform(create_labels_matrix(all_image_histograms.keys()))\n",
      "x_train, x_test, y_train, y_test = train_test_split(all_image_histograms.values(), y,  test_size=.3, random_state=42)"
     ],
     "language": "python",
     "metadata": {},
     "outputs": []
    },
    {
     "cell_type": "code",
     "collapsed": false,
     "input": [
      "from __future__ import division\n",
      "a = svm.predict(x_test)\n",
      "print \"Accuracy is: %f\" % sum(a == y_test)\n",
      "len(a)"
     ],
     "language": "python",
     "metadata": {},
     "outputs": [
      {
       "output_type": "stream",
       "stream": "stdout",
       "text": [
        "Accuracy is: 27.000000\n"
       ]
      },
      {
       "metadata": {},
       "output_type": "pyout",
       "prompt_number": 39,
       "text": [
        "42"
       ]
      }
     ],
     "prompt_number": 39
    },
    {
     "cell_type": "code",
     "collapsed": false,
     "input": [
      "all_image_histograms.keys()"
     ],
     "language": "python",
     "metadata": {},
     "outputs": [
      {
       "metadata": {},
       "output_type": "pyout",
       "prompt_number": 17,
       "text": [
        "['/Users/User1/Downloads/FlickrLogos-v2/classes/jpg/starbucks/18742153.jpg',\n",
        " '/Users/User1/Downloads/FlickrLogos-v2/classes/jpg/no-logo/102142080.jpg',\n",
        " '/Users/User1/Downloads/FlickrLogos-v2/classes/jpg/no-logo/102143616.jpg',\n",
        " '/Users/User1/Downloads/FlickrLogos-v2/classes/jpg/no-logo/1018587.jpg',\n",
        " '/Users/User1/Downloads/FlickrLogos-v2/classes/jpg/starbucks/123248644.jpg',\n",
        " '/Users/User1/Downloads/FlickrLogos-v2/classes/jpg/starbucks/328190406.jpg',\n",
        " '/Users/User1/Downloads/FlickrLogos-v2/classes/jpg/starbucks/206667340.jpg',\n",
        " '/Users/User1/Downloads/FlickrLogos-v2/classes/jpg/starbucks/5201681565.jpg',\n",
        " '/Users/User1/Downloads/FlickrLogos-v2/classes/jpg/starbucks/2172776695.jpg',\n",
        " '/Users/User1/Downloads/FlickrLogos-v2/classes/jpg/no-logo/102727416.jpg',\n",
        " '/Users/User1/Downloads/FlickrLogos-v2/classes/jpg/starbucks/20593731.jpg',\n",
        " '/Users/User1/Downloads/FlickrLogos-v2/classes/jpg/starbucks/2186083403.jpg',\n",
        " '/Users/User1/Downloads/FlickrLogos-v2/classes/jpg/starbucks/1210221035.jpg',\n",
        " '/Users/User1/Downloads/FlickrLogos-v2/classes/jpg/starbucks/2391939825.jpg',\n",
        " '/Users/User1/Downloads/FlickrLogos-v2/classes/jpg/no-logo/101754604.jpg',\n",
        " '/Users/User1/Downloads/FlickrLogos-v2/classes/jpg/starbucks/117520826.jpg',\n",
        " '/Users/User1/Downloads/FlickrLogos-v2/classes/jpg/no-logo/11357762.jpg',\n",
        " '/Users/User1/Downloads/FlickrLogos-v2/classes/jpg/starbucks/29327917.jpg',\n",
        " '/Users/User1/Downloads/FlickrLogos-v2/classes/jpg/starbucks/5153646479.jpg',\n",
        " '/Users/User1/Downloads/FlickrLogos-v2/classes/jpg/starbucks/4092275918.jpg',\n",
        " '/Users/User1/Downloads/FlickrLogos-v2/classes/jpg/starbucks/4548547256.jpg',\n",
        " '/Users/User1/Downloads/FlickrLogos-v2/classes/jpg/no-logo/116891912.jpg',\n",
        " '/Users/User1/Downloads/FlickrLogos-v2/classes/jpg/no-logo/122858180.jpg',\n",
        " '/Users/User1/Downloads/FlickrLogos-v2/classes/jpg/no-logo/110365386.jpg',\n",
        " '/Users/User1/Downloads/FlickrLogos-v2/classes/jpg/no-logo/1041785155.jpg',\n",
        " '/Users/User1/Downloads/FlickrLogos-v2/classes/jpg/starbucks/413133649.jpg',\n",
        " '/Users/User1/Downloads/FlickrLogos-v2/classes/jpg/no-logo/11581192.jpg',\n",
        " '/Users/User1/Downloads/FlickrLogos-v2/classes/jpg/starbucks/435115952.jpg',\n",
        " '/Users/User1/Downloads/FlickrLogos-v2/classes/jpg/no-logo/102039000.jpg',\n",
        " '/Users/User1/Downloads/FlickrLogos-v2/classes/jpg/starbucks/5180712509.jpg',\n",
        " '/Users/User1/Downloads/FlickrLogos-v2/classes/jpg/no-logo/116567877.jpg',\n",
        " '/Users/User1/Downloads/FlickrLogos-v2/classes/jpg/starbucks/5148893120.jpg',\n",
        " '/Users/User1/Downloads/FlickrLogos-v2/classes/jpg/no-logo/1018602.jpg',\n",
        " '/Users/User1/Downloads/FlickrLogos-v2/classes/jpg/starbucks/121116633.jpg',\n",
        " '/Users/User1/Downloads/FlickrLogos-v2/classes/jpg/no-logo/1175670088.jpg',\n",
        " '/Users/User1/Downloads/FlickrLogos-v2/classes/jpg/no-logo/1145479214.jpg',\n",
        " '/Users/User1/Downloads/FlickrLogos-v2/classes/jpg/starbucks/299220519.jpg',\n",
        " '/Users/User1/Downloads/FlickrLogos-v2/classes/jpg/no-logo/107661592.jpg',\n",
        " '/Users/User1/Downloads/FlickrLogos-v2/classes/jpg/starbucks/3856926158.jpg',\n",
        " '/Users/User1/Downloads/FlickrLogos-v2/classes/jpg/no-logo/1175661350.jpg',\n",
        " '/Users/User1/Downloads/FlickrLogos-v2/classes/jpg/no-logo/1018597.jpg',\n",
        " '/Users/User1/Downloads/FlickrLogos-v2/classes/jpg/no-logo/106777157.jpg',\n",
        " '/Users/User1/Downloads/FlickrLogos-v2/classes/jpg/starbucks/4119449064.jpg',\n",
        " '/Users/User1/Downloads/FlickrLogos-v2/classes/jpg/starbucks/2186082737.jpg',\n",
        " '/Users/User1/Downloads/FlickrLogos-v2/classes/jpg/starbucks/553296479.jpg',\n",
        " '/Users/User1/Downloads/FlickrLogos-v2/classes/jpg/starbucks/2544361486.jpg',\n",
        " '/Users/User1/Downloads/FlickrLogos-v2/classes/jpg/starbucks/128839930.jpg',\n",
        " '/Users/User1/Downloads/FlickrLogos-v2/classes/jpg/starbucks/5002626744.jpg',\n",
        " '/Users/User1/Downloads/FlickrLogos-v2/classes/jpg/no-logo/119455109.jpg',\n",
        " '/Users/User1/Downloads/FlickrLogos-v2/classes/jpg/starbucks/5191209983.jpg',\n",
        " '/Users/User1/Downloads/FlickrLogos-v2/classes/jpg/starbucks/163509641.jpg',\n",
        " '/Users/User1/Downloads/FlickrLogos-v2/classes/jpg/starbucks/5201822805.jpg',\n",
        " '/Users/User1/Downloads/FlickrLogos-v2/classes/jpg/starbucks/5174116731.jpg',\n",
        " '/Users/User1/Downloads/FlickrLogos-v2/classes/jpg/starbucks/5172300356.jpg',\n",
        " '/Users/User1/Downloads/FlickrLogos-v2/classes/jpg/starbucks/5182272142.jpg',\n",
        " '/Users/User1/Downloads/FlickrLogos-v2/classes/jpg/starbucks/148551034.jpg',\n",
        " '/Users/User1/Downloads/FlickrLogos-v2/classes/jpg/starbucks/5204356027.jpg',\n",
        " '/Users/User1/Downloads/FlickrLogos-v2/classes/jpg/starbucks/1165690.jpg',\n",
        " '/Users/User1/Downloads/FlickrLogos-v2/classes/jpg/no-logo/1131351652.jpg',\n",
        " '/Users/User1/Downloads/FlickrLogos-v2/classes/jpg/starbucks/2176382424.jpg',\n",
        " '/Users/User1/Downloads/FlickrLogos-v2/classes/jpg/starbucks/142957367.jpg',\n",
        " '/Users/User1/Downloads/FlickrLogos-v2/classes/jpg/starbucks/389081363.jpg',\n",
        " '/Users/User1/Downloads/FlickrLogos-v2/classes/jpg/starbucks/29328017.jpg',\n",
        " '/Users/User1/Downloads/FlickrLogos-v2/classes/jpg/no-logo/122858161.jpg',\n",
        " '/Users/User1/Downloads/FlickrLogos-v2/classes/jpg/no-logo/1102686438.jpg',\n",
        " '/Users/User1/Downloads/FlickrLogos-v2/classes/jpg/starbucks/5214614697.jpg',\n",
        " '/Users/User1/Downloads/FlickrLogos-v2/classes/jpg/no-logo/1146911344.jpg',\n",
        " '/Users/User1/Downloads/FlickrLogos-v2/classes/jpg/starbucks/128843374.jpg',\n",
        " '/Users/User1/Downloads/FlickrLogos-v2/classes/jpg/starbucks/148550625.jpg',\n",
        " '/Users/User1/Downloads/FlickrLogos-v2/classes/jpg/no-logo/1165657577.jpg',\n",
        " '/Users/User1/Downloads/FlickrLogos-v2/classes/jpg/no-logo/116567876.jpg',\n",
        " '/Users/User1/Downloads/FlickrLogos-v2/classes/jpg/no-logo/1004450915.jpg',\n",
        " '/Users/User1/Downloads/FlickrLogos-v2/classes/jpg/starbucks/423253829.jpg',\n",
        " '/Users/User1/Downloads/FlickrLogos-v2/classes/jpg/no-logo/117778524.jpg',\n",
        " '/Users/User1/Downloads/FlickrLogos-v2/classes/jpg/no-logo/1013987691.jpg',\n",
        " '/Users/User1/Downloads/FlickrLogos-v2/classes/jpg/no-logo/1063200365.jpg',\n",
        " '/Users/User1/Downloads/FlickrLogos-v2/classes/jpg/no-logo/107661594.jpg',\n",
        " '/Users/User1/Downloads/FlickrLogos-v2/classes/jpg/starbucks/4028853204.jpg',\n",
        " '/Users/User1/Downloads/FlickrLogos-v2/classes/jpg/starbucks/1988589860.jpg',\n",
        " '/Users/User1/Downloads/FlickrLogos-v2/classes/jpg/starbucks/5170317829.jpg',\n",
        " '/Users/User1/Downloads/FlickrLogos-v2/classes/jpg/no-logo/1197760836.jpg',\n",
        " '/Users/User1/Downloads/FlickrLogos-v2/classes/jpg/starbucks/2987462.jpg',\n",
        " '/Users/User1/Downloads/FlickrLogos-v2/classes/jpg/no-logo/1076725391.jpg',\n",
        " '/Users/User1/Downloads/FlickrLogos-v2/classes/jpg/no-logo/122858152.jpg',\n",
        " '/Users/User1/Downloads/FlickrLogos-v2/classes/jpg/no-logo/104850936.jpg',\n",
        " '/Users/User1/Downloads/FlickrLogos-v2/classes/jpg/starbucks/3128259819.jpg',\n",
        " '/Users/User1/Downloads/FlickrLogos-v2/classes/jpg/starbucks/4752050504.jpg',\n",
        " '/Users/User1/Downloads/FlickrLogos-v2/classes/jpg/no-logo/121432022.jpg',\n",
        " '/Users/User1/Downloads/FlickrLogos-v2/classes/jpg/no-logo/104851051.jpg',\n",
        " '/Users/User1/Downloads/FlickrLogos-v2/classes/jpg/no-logo/107686248.jpg',\n",
        " '/Users/User1/Downloads/FlickrLogos-v2/classes/jpg/no-logo/107657365.jpg',\n",
        " '/Users/User1/Downloads/FlickrLogos-v2/classes/jpg/starbucks/250299952.jpg',\n",
        " '/Users/User1/Downloads/FlickrLogos-v2/classes/jpg/starbucks/516933553.jpg',\n",
        " '/Users/User1/Downloads/FlickrLogos-v2/classes/jpg/no-logo/116776042.jpg',\n",
        " '/Users/User1/Downloads/FlickrLogos-v2/classes/jpg/starbucks/1513691035.jpg',\n",
        " '/Users/User1/Downloads/FlickrLogos-v2/classes/jpg/starbucks/5192321776.jpg',\n",
        " '/Users/User1/Downloads/FlickrLogos-v2/classes/jpg/starbucks/5190531675.jpg',\n",
        " '/Users/User1/Downloads/FlickrLogos-v2/classes/jpg/no-logo/1075439609.jpg',\n",
        " '/Users/User1/Downloads/FlickrLogos-v2/classes/jpg/starbucks/1393510590.jpg',\n",
        " '/Users/User1/Downloads/FlickrLogos-v2/classes/jpg/no-logo/1170538371.jpg',\n",
        " '/Users/User1/Downloads/FlickrLogos-v2/classes/jpg/no-logo/1175653867.jpg',\n",
        " '/Users/User1/Downloads/FlickrLogos-v2/classes/jpg/no-logo/102727726.jpg',\n",
        " '/Users/User1/Downloads/FlickrLogos-v2/classes/jpg/starbucks/4871375996.jpg',\n",
        " '/Users/User1/Downloads/FlickrLogos-v2/classes/jpg/no-logo/1080429087.jpg',\n",
        " '/Users/User1/Downloads/FlickrLogos-v2/classes/jpg/starbucks/5157666627.jpg',\n",
        " '/Users/User1/Downloads/FlickrLogos-v2/classes/jpg/no-logo/107293965.jpg',\n",
        " '/Users/User1/Downloads/FlickrLogos-v2/classes/jpg/no-logo/1227723523.jpg',\n",
        " '/Users/User1/Downloads/FlickrLogos-v2/classes/jpg/no-logo/1063204451.jpg',\n",
        " '/Users/User1/Downloads/FlickrLogos-v2/classes/jpg/no-logo/102141626.jpg',\n",
        " '/Users/User1/Downloads/FlickrLogos-v2/classes/jpg/no-logo/1018582.jpg',\n",
        " '/Users/User1/Downloads/FlickrLogos-v2/classes/jpg/no-logo/1075400660.jpg',\n",
        " '/Users/User1/Downloads/FlickrLogos-v2/classes/jpg/starbucks/5154996510.jpg',\n",
        " '/Users/User1/Downloads/FlickrLogos-v2/classes/jpg/no-logo/107052565.jpg',\n",
        " '/Users/User1/Downloads/FlickrLogos-v2/classes/jpg/no-logo/103269535.jpg',\n",
        " '/Users/User1/Downloads/FlickrLogos-v2/classes/jpg/no-logo/111331915.jpg',\n",
        " '/Users/User1/Downloads/FlickrLogos-v2/classes/jpg/no-logo/113286046.jpg',\n",
        " '/Users/User1/Downloads/FlickrLogos-v2/classes/jpg/no-logo/105247609.jpg',\n",
        " '/Users/User1/Downloads/FlickrLogos-v2/classes/jpg/starbucks/5199807260.jpg',\n",
        " '/Users/User1/Downloads/FlickrLogos-v2/classes/jpg/no-logo/104852690.jpg',\n",
        " '/Users/User1/Downloads/FlickrLogos-v2/classes/jpg/no-logo/114438514.jpg',\n",
        " '/Users/User1/Downloads/FlickrLogos-v2/classes/jpg/no-logo/1075510925.jpg',\n",
        " '/Users/User1/Downloads/FlickrLogos-v2/classes/jpg/no-logo/1203892885.jpg',\n",
        " '/Users/User1/Downloads/FlickrLogos-v2/classes/jpg/no-logo/108765173.jpg',\n",
        " '/Users/User1/Downloads/FlickrLogos-v2/classes/jpg/starbucks/364083374.jpg',\n",
        " '/Users/User1/Downloads/FlickrLogos-v2/classes/jpg/starbucks/3511750566.jpg',\n",
        " '/Users/User1/Downloads/FlickrLogos-v2/classes/jpg/no-logo/101929670.jpg',\n",
        " '/Users/User1/Downloads/FlickrLogos-v2/classes/jpg/starbucks/2421405691.jpg',\n",
        " '/Users/User1/Downloads/FlickrLogos-v2/classes/jpg/no-logo/115633949.jpg',\n",
        " '/Users/User1/Downloads/FlickrLogos-v2/classes/jpg/no-logo/101754600.jpg',\n",
        " '/Users/User1/Downloads/FlickrLogos-v2/classes/jpg/starbucks/3267952012.jpg',\n",
        " '/Users/User1/Downloads/FlickrLogos-v2/classes/jpg/no-logo/107692256.jpg',\n",
        " '/Users/User1/Downloads/FlickrLogos-v2/classes/jpg/starbucks/4240695335.jpg',\n",
        " '/Users/User1/Downloads/FlickrLogos-v2/classes/jpg/no-logo/1175690719.jpg',\n",
        " '/Users/User1/Downloads/FlickrLogos-v2/classes/jpg/no-logo/1064064548.jpg',\n",
        " '/Users/User1/Downloads/FlickrLogos-v2/classes/jpg/no-logo/1075591416.jpg',\n",
        " '/Users/User1/Downloads/FlickrLogos-v2/classes/jpg/no-logo/1075463205.jpg',\n",
        " '/Users/User1/Downloads/FlickrLogos-v2/classes/jpg/starbucks/768976188.jpg',\n",
        " '/Users/User1/Downloads/FlickrLogos-v2/classes/jpg/starbucks/379701856.jpg',\n",
        " '/Users/User1/Downloads/FlickrLogos-v2/classes/jpg/starbucks/313403547.jpg',\n",
        " '/Users/User1/Downloads/FlickrLogos-v2/classes/jpg/starbucks/319998547.jpg']"
       ]
      }
     ],
     "prompt_number": 17
    },
    {
     "cell_type": "code",
     "collapsed": false,
     "input": [],
     "language": "python",
     "metadata": {},
     "outputs": []
    }
   ],
   "metadata": {}
  }
 ]
}